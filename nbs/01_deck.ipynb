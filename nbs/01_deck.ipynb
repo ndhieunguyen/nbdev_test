{
 "cells": [
  {
   "cell_type": "code",
   "execution_count": 1,
   "metadata": {},
   "outputs": [],
   "source": [
    "#| default_exp deck"
   ]
  },
  {
   "cell_type": "code",
   "execution_count": 3,
   "metadata": {},
   "outputs": [],
   "source": [
    "#| export\n",
    "from nbdev_test.card import *"
   ]
  },
  {
   "cell_type": "code",
   "execution_count": 2,
   "metadata": {},
   "outputs": [],
   "source": [
    "#| hide \n",
    "from nbdev.showdoc import *"
   ]
  },
  {
   "cell_type": "code",
   "execution_count": 6,
   "metadata": {},
   "outputs": [],
   "source": [
    "#| export \n",
    "class Deck:\n",
    "    def __init__(self) -> None:\n",
    "        self.cards = [Card(s, r) for s in range(4) for r in range(1, 14)]\n",
    "    \n",
    "    def __str__(self) -> str:\n",
    "        return ';'.join(map(str(self.cards)))\n",
    "\n",
    "    def __repr__(self) -> str:\n",
    "        return ';'.join(map(str, self.cards))"
   ]
  },
  {
   "cell_type": "code",
   "execution_count": 7,
   "metadata": {},
   "outputs": [
    {
     "data": {
      "text/plain": [
       "Aspade;2spade;3spade;4spade;5spade;6spade;7spade;8spade;9spade;10spade;Jspade;Qspade;Kspade;A clover;2 clover;3 clover;4 clover;5 clover;6 clover;7 clover;8 clover;9 clover;10 clover;J clover;Q clover;K clover;A diamond;2 diamond;3 diamond;4 diamond;5 diamond;6 diamond;7 diamond;8 diamond;9 diamond;10 diamond;J diamond;Q diamond;K diamond;A heart;2 heart;3 heart;4 heart;5 heart;6 heart;7 heart;8 heart;9 heart;10 heart;J heart;Q heart;K heart"
      ]
     },
     "execution_count": 7,
     "metadata": {},
     "output_type": "execute_result"
    }
   ],
   "source": [
    "Deck()"
   ]
  },
  {
   "cell_type": "code",
   "execution_count": null,
   "metadata": {},
   "outputs": [],
   "source": []
  }
 ],
 "metadata": {
  "kernelspec": {
   "display_name": "test_env",
   "language": "python",
   "name": "python3"
  },
  "language_info": {
   "codemirror_mode": {
    "name": "ipython",
    "version": 3
   },
   "file_extension": ".py",
   "mimetype": "text/x-python",
   "name": "python",
   "nbconvert_exporter": "python",
   "pygments_lexer": "ipython3",
   "version": "3.10.0"
  },
  "orig_nbformat": 4,
  "vscode": {
   "interpreter": {
    "hash": "feebe922fb4a875663e10ac8f7e72d9c2a147f9ed74b58b293bfc05b0a008b7c"
   }
  }
 },
 "nbformat": 4,
 "nbformat_minor": 2
}
